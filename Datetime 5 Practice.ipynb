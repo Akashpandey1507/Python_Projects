{
 "cells": [
  {
   "cell_type": "code",
   "execution_count": 31,
   "metadata": {},
   "outputs": [],
   "source": [
    "import datetime as dt"
   ]
  },
  {
   "attachments": {},
   "cell_type": "markdown",
   "metadata": {},
   "source": [
    "# 1. Print current date and time in Python"
   ]
  },
  {
   "cell_type": "code",
   "execution_count": 32,
   "metadata": {},
   "outputs": [
    {
     "data": {
      "text/plain": [
       "datetime.datetime(2023, 5, 27, 10, 40, 15, 779645)"
      ]
     },
     "execution_count": 32,
     "metadata": {},
     "output_type": "execute_result"
    }
   ],
   "source": [
    "Today_Date_Time = dt.datetime.now()\n",
    "Today_Date_Time   #to print Date with times"
   ]
  },
  {
   "cell_type": "code",
   "execution_count": 33,
   "metadata": {},
   "outputs": [
    {
     "data": {
      "text/plain": [
       "datetime.time(10, 40, 15, 869553)"
      ]
     },
     "execution_count": 33,
     "metadata": {},
     "output_type": "execute_result"
    }
   ],
   "source": [
    "Today_Time = dt.datetime.now().time()\n",
    "Today_Time   #to print only today times"
   ]
  },
  {
   "attachments": {},
   "cell_type": "markdown",
   "metadata": {},
   "source": [
    "# 2. Convert string into a datetime object"
   ]
  },
  {
   "cell_type": "code",
   "execution_count": 34,
   "metadata": {},
   "outputs": [
    {
     "name": "stdout",
     "output_type": "stream",
     "text": [
      "2023-05-27 12:34:56\n"
     ]
    }
   ],
   "source": [
    "from datetime import datetime\n",
    "\n",
    "date_string = \"2023-05-27 12:34:56\"\n",
    "datetime_object = datetime.strptime(date_string, \"%Y-%m-%d %H:%M:%S\")\n",
    "\n",
    "print(datetime_object)\n"
   ]
  },
  {
   "attachments": {},
   "cell_type": "markdown",
   "metadata": {},
   "source": [
    "# 3. Print a date in a the following format"
   ]
  },
  {
   "cell_type": "code",
   "execution_count": 37,
   "metadata": {},
   "outputs": [
    {
     "name": "stdout",
     "output_type": "stream",
     "text": [
      "Given date is\n",
      "Tuesday 25 February 2020\n"
     ]
    }
   ],
   "source": [
    "from datetime import datetime\n",
    "\n",
    "given_date = datetime(2020, 2, 25)\n",
    "print(\"Given date is\")\n",
    "print(given_date.strftime('%A %d %B %Y'))\n",
    "\n",
    "# Where\n",
    "# %A = Weekdat\n",
    "# %d = Days of the months\n",
    "# %B = Months Name\n",
    "# %Y = Year"
   ]
  },
  {
   "attachments": {},
   "cell_type": "markdown",
   "metadata": {},
   "source": [
    "# 4. Find the day of the week of a given date\n"
   ]
  },
  {
   "cell_type": "code",
   "execution_count": 41,
   "metadata": {},
   "outputs": [
    {
     "name": "stdout",
     "output_type": "stream",
     "text": [
      "Saturday\n"
     ]
    }
   ],
   "source": [
    "given_date = dt.datetime.now()\n",
    "\n",
    "print(given_date.strftime('%A'))"
   ]
  },
  {
   "attachments": {},
   "cell_type": "markdown",
   "metadata": {},
   "source": [
    "# 5. Calculate number of days between two given dates"
   ]
  },
  {
   "cell_type": "code",
   "execution_count": 51,
   "metadata": {},
   "outputs": [
    {
     "name": "stdout",
     "output_type": "stream",
     "text": [
      "date_1 is greater\n",
      "Difference is 9815 days\n"
     ]
    }
   ],
   "source": [
    "# 2020-02-25\n",
    "date_1 = dt.datetime.now().date()\n",
    "# 2020-09-17\n",
    "date_2 = datetime(1996, 7, 12).date()\n",
    "\n",
    "delta = None\n",
    "if date_1 > date_2:\n",
    "    print(\"date_1 is greater\")\n",
    "    delta = date_1 - date_2\n",
    "else:\n",
    "    print(\"date_2 is greater\")\n",
    "    delta = date_2 - date_1\n",
    "print(\"Difference is\", delta.days, \"days\")\n"
   ]
  }
 ],
 "metadata": {
  "kernelspec": {
   "display_name": "Python 3",
   "language": "python",
   "name": "python3"
  },
  "language_info": {
   "codemirror_mode": {
    "name": "ipython",
    "version": 3
   },
   "file_extension": ".py",
   "mimetype": "text/x-python",
   "name": "python",
   "nbconvert_exporter": "python",
   "pygments_lexer": "ipython3",
   "version": "3.11.3"
  },
  "orig_nbformat": 4
 },
 "nbformat": 4,
 "nbformat_minor": 2
}
