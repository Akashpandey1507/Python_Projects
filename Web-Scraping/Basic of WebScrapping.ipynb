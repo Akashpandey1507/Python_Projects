{
 "cells": [
  {
   "attachments": {},
   "cell_type": "markdown",
   "metadata": {},
   "source": [
    "# Basic of Webscrapping with HTML Text"
   ]
  },
  {
   "cell_type": "code",
   "execution_count": 6,
   "metadata": {},
   "outputs": [],
   "source": [
    "from bs4 import BeautifulSoup"
   ]
  },
  {
   "cell_type": "code",
   "execution_count": 7,
   "metadata": {},
   "outputs": [
    {
     "data": {
      "text/plain": [
       "'\\n<html>\\n<head>\\n<meta http-equiv=\"Content-Type\" content=\"text/html;\\ncharset=iso-8859-1\">\\n<title>An example of HTML page</title>\\n</head>\\n<body>\\n<h2>This is an example HTML page</h2>\\n<p>\\nLorem ipsum dolor sit amet, consectetur adipiscing elit. Nunc at nisi velit,\\naliquet iaculis est. Curabitur porttitor nisi vel lacus euismod egestas. In hac\\nhabitasse platea dictumst. In sagittis magna eu odio interdum mollis. Phasellus\\nsagittis pulvinar facilisis. Donec vel odio volutpat tortor volutpat commodo.\\nDonec vehicula vulputate sem, vel iaculis urna molestie eget. Sed pellentesque\\nadipiscing tortor, at condimentum elit elementum sed. Mauris dignissim\\nelementum nunc, non elementum felis condimentum eu. In in turpis quis erat\\nimperdiet vulputate. Pellentesque mauris turpis, dignissim sed iaculis eu,\\neuismod eget ipsum. Vivamus mollis adipiscing viverra. Morbi at sem eget nisl\\neuismod porta.</p>\\n<p><a href=\"https://www.w3resource.com/html/HTML-tutorials.php\">Learn HTML from\\nw3resource.com</a></p>\\n<p><a href=\"https://www.w3resource.com/css/CSS-tutorials.php\">Learn CSS from \\nw3resource.com</a></p>\\n</body>\\n</html>\\n'"
      ]
     },
     "execution_count": 7,
     "metadata": {},
     "output_type": "execute_result"
    }
   ],
   "source": [
    "html_text = \"\"\"\n",
    "<html>\n",
    "<head>\n",
    "<meta http-equiv=\"Content-Type\" content=\"text/html;\n",
    "charset=iso-8859-1\">\n",
    "<title>An example of HTML page</title>\n",
    "</head>\n",
    "<body>\n",
    "<h2>This is an example HTML page</h2>\n",
    "<p>\n",
    "Lorem ipsum dolor sit amet, consectetur adipiscing elit. Nunc at nisi velit,\n",
    "aliquet iaculis est. Curabitur porttitor nisi vel lacus euismod egestas. In hac\n",
    "habitasse platea dictumst. In sagittis magna eu odio interdum mollis. Phasellus\n",
    "sagittis pulvinar facilisis. Donec vel odio volutpat tortor volutpat commodo.\n",
    "Donec vehicula vulputate sem, vel iaculis urna molestie eget. Sed pellentesque\n",
    "adipiscing tortor, at condimentum elit elementum sed. Mauris dignissim\n",
    "elementum nunc, non elementum felis condimentum eu. In in turpis quis erat\n",
    "imperdiet vulputate. Pellentesque mauris turpis, dignissim sed iaculis eu,\n",
    "euismod eget ipsum. Vivamus mollis adipiscing viverra. Morbi at sem eget nisl\n",
    "euismod porta.</p>\n",
    "<p><a href=\"https://www.w3resource.com/html/HTML-tutorials.php\">Learn HTML from\n",
    "w3resource.com</a></p>\n",
    "<p><a href=\"https://www.w3resource.com/css/CSS-tutorials.php\">Learn CSS from \n",
    "w3resource.com</a></p>\n",
    "</body>\n",
    "</html>\n",
    "\"\"\"\n",
    "html_text\n"
   ]
  },
  {
   "cell_type": "code",
   "execution_count": 8,
   "metadata": {},
   "outputs": [
    {
     "name": "stdout",
     "output_type": "stream",
     "text": [
      "<html>\n",
      "<head>\n",
      "<meta content=\"text/html;\n",
      "charset=utf-8\" http-equiv=\"Content-Type\"/>\n",
      "<title>An example of HTML page</title>\n",
      "</head>\n",
      "<body>\n",
      "<h2>This is an example HTML page</h2>\n",
      "<p>\n",
      "Lorem ipsum dolor sit amet, consectetur adipiscing elit. Nunc at nisi velit,\n",
      "aliquet iaculis est. Curabitur porttitor nisi vel lacus euismod egestas. In hac\n",
      "habitasse platea dictumst. In sagittis magna eu odio interdum mollis. Phasellus\n",
      "sagittis pulvinar facilisis. Donec vel odio volutpat tortor volutpat commodo.\n",
      "Donec vehicula vulputate sem, vel iaculis urna molestie eget. Sed pellentesque\n",
      "adipiscing tortor, at condimentum elit elementum sed. Mauris dignissim\n",
      "elementum nunc, non elementum felis condimentum eu. In in turpis quis erat\n",
      "imperdiet vulputate. Pellentesque mauris turpis, dignissim sed iaculis eu,\n",
      "euismod eget ipsum. Vivamus mollis adipiscing viverra. Morbi at sem eget nisl\n",
      "euismod porta.</p>\n",
      "<p><a href=\"https://www.w3resource.com/html/HTML-tutorials.php\">Learn HTML from\n",
      "w3resource.com</a></p>\n",
      "<p><a href=\"https://www.w3resource.com/css/CSS-tutorials.php\">Learn CSS from \n",
      "w3resource.com</a></p>\n",
      "</body>\n",
      "</html>\n",
      "\n"
     ]
    }
   ],
   "source": [
    "soup = BeautifulSoup(html_text, 'lxml')\n",
    "print(soup)"
   ]
  },
  {
   "attachments": {},
   "cell_type": "markdown",
   "metadata": {},
   "source": [
    "# Questions: "
   ]
  },
  {
   "attachments": {},
   "cell_type": "markdown",
   "metadata": {},
   "source": [
    "# 1. Write a Python program to find the title tags from a given html document."
   ]
  },
  {
   "cell_type": "code",
   "execution_count": 9,
   "metadata": {},
   "outputs": [
    {
     "name": "stdout",
     "output_type": "stream",
     "text": [
      "<title>An example of HTML page</title>\n"
     ]
    }
   ],
   "source": [
    "tit = soup.find(\"title\")\n",
    "\n",
    "print(tit)\n",
    "\n"
   ]
  },
  {
   "attachments": {},
   "cell_type": "markdown",
   "metadata": {},
   "source": [
    "# 2. Write a Python program to retrieve all the paragraph tags from a given html document."
   ]
  },
  {
   "cell_type": "code",
   "execution_count": 10,
   "metadata": {},
   "outputs": [
    {
     "name": "stdout",
     "output_type": "stream",
     "text": [
      "[<p>\n",
      "Lorem ipsum dolor sit amet, consectetur adipiscing elit. Nunc at nisi velit,\n",
      "aliquet iaculis est. Curabitur porttitor nisi vel lacus euismod egestas. In hac\n",
      "habitasse platea dictumst. In sagittis magna eu odio interdum mollis. Phasellus\n",
      "sagittis pulvinar facilisis. Donec vel odio volutpat tortor volutpat commodo.\n",
      "Donec vehicula vulputate sem, vel iaculis urna molestie eget. Sed pellentesque\n",
      "adipiscing tortor, at condimentum elit elementum sed. Mauris dignissim\n",
      "elementum nunc, non elementum felis condimentum eu. In in turpis quis erat\n",
      "imperdiet vulputate. Pellentesque mauris turpis, dignissim sed iaculis eu,\n",
      "euismod eget ipsum. Vivamus mollis adipiscing viverra. Morbi at sem eget nisl\n",
      "euismod porta.</p>, <p><a href=\"https://www.w3resource.com/html/HTML-tutorials.php\">Learn HTML from\n",
      "w3resource.com</a></p>, <p><a href=\"https://www.w3resource.com/css/CSS-tutorials.php\">Learn CSS from \n",
      "w3resource.com</a></p>]\n"
     ]
    }
   ],
   "source": [
    "paragraph = soup.find_all(\"p\")\n",
    "\n",
    "print(paragraph)\n"
   ]
  },
  {
   "attachments": {},
   "cell_type": "markdown",
   "metadata": {},
   "source": [
    "# 3. Write a Python program to get the number of paragraph tags of a given html document."
   ]
  },
  {
   "cell_type": "code",
   "execution_count": 11,
   "metadata": {},
   "outputs": [
    {
     "name": "stdout",
     "output_type": "stream",
     "text": [
      "The length of Paragraph is: 3.\n"
     ]
    }
   ],
   "source": [
    "paragraph_len = len(soup.find_all(\"p\"))\n",
    "\n",
    "print(f\"The length of Paragraph is: {paragraph_len}.\")\n"
   ]
  },
  {
   "attachments": {},
   "cell_type": "markdown",
   "metadata": {},
   "source": [
    "# 4. Extract the text in the first paragraph tag of a given html document"
   ]
  },
  {
   "cell_type": "code",
   "execution_count": 12,
   "metadata": {},
   "outputs": [
    {
     "name": "stdout",
     "output_type": "stream",
     "text": [
      "<p>\n",
      "Lorem ipsum dolor sit amet, consectetur adipiscing elit. Nunc at nisi velit,\n",
      "aliquet iaculis est. Curabitur porttitor nisi vel lacus euismod egestas. In hac\n",
      "habitasse platea dictumst. In sagittis magna eu odio interdum mollis. Phasellus\n",
      "sagittis pulvinar facilisis. Donec vel odio volutpat tortor volutpat commodo.\n",
      "Donec vehicula vulputate sem, vel iaculis urna molestie eget. Sed pellentesque\n",
      "adipiscing tortor, at condimentum elit elementum sed. Mauris dignissim\n",
      "elementum nunc, non elementum felis condimentum eu. In in turpis quis erat\n",
      "imperdiet vulputate. Pellentesque mauris turpis, dignissim sed iaculis eu,\n",
      "euismod eget ipsum. Vivamus mollis adipiscing viverra. Morbi at sem eget nisl\n",
      "euismod porta.</p>\n"
     ]
    }
   ],
   "source": [
    "paragraph_text = soup.find_all(\"p\")[0]\n",
    "\n",
    "print(f\"{paragraph_text}\")\n",
    "\n"
   ]
  },
  {
   "cell_type": "code",
   "execution_count": 13,
   "metadata": {},
   "outputs": [
    {
     "data": {
      "text/plain": [
       "'Lorem ipsum dolor sit amet, consectetur adipiscing elit. Nunc at nisi velit,\\naliquet iaculis est. Curabitur porttitor nisi vel lacus euismod egestas. In hac\\nhabitasse platea dictumst. In sagittis magna eu odio interdum mollis. Phasellus\\nsagittis pulvinar facilisis. Donec vel odio volutpat tortor volutpat commodo.\\nDonec vehicula vulputate sem, vel iaculis urna molestie eget. Sed pellentesque\\nadipiscing tortor, at condimentum elit elementum sed. Mauris dignissim\\nelementum nunc, non elementum felis condimentum eu. In in turpis quis erat\\nimperdiet vulputate. Pellentesque mauris turpis, dignissim sed iaculis eu,\\neuismod eget ipsum. Vivamus mollis adipiscing viverra. Morbi at sem eget nisl\\neuismod porta.'"
      ]
     },
     "execution_count": 13,
     "metadata": {},
     "output_type": "execute_result"
    }
   ],
   "source": [
    "\n",
    "paragraph_text = soup.find_all(\"p\")[0].get_text().lstrip('\\n') #lstrip for remove \"\\n\"\n",
    "paragraph_text"
   ]
  },
  {
   "attachments": {},
   "cell_type": "markdown",
   "metadata": {},
   "source": [
    "# 5. Find the length of the text of the first \"h2\" tag of a given html document"
   ]
  },
  {
   "cell_type": "code",
   "execution_count": 14,
   "metadata": {},
   "outputs": [
    {
     "name": "stdout",
     "output_type": "stream",
     "text": [
      "The Length of first h2 is: 28.\n"
     ]
    }
   ],
   "source": [
    "len_of_h2 = len(soup.find(\"h2\").get_text())\n",
    "\n",
    "print(f'The Length of first h2 is: {len_of_h2}.')"
   ]
  },
  {
   "attachments": {},
   "cell_type": "markdown",
   "metadata": {},
   "source": [
    "# 6. Write a Python program to find the text of the first \"a\" tag of a given html text."
   ]
  },
  {
   "cell_type": "code",
   "execution_count": 15,
   "metadata": {},
   "outputs": [
    {
     "data": {
      "text/plain": [
       "'Learn HTML from\\nw3resource.com'"
      ]
     },
     "execution_count": 15,
     "metadata": {},
     "output_type": "execute_result"
    }
   ],
   "source": [
    "text_from_a_tag = soup.find('a').get_text()\n",
    "text_from_a_tag\n"
   ]
  },
  {
   "attachments": {},
   "cell_type": "markdown",
   "metadata": {},
   "source": [
    "# 7. Write a Python program to find the href of the first \"a\" tag of a given html document."
   ]
  },
  {
   "cell_type": "code",
   "execution_count": 16,
   "metadata": {},
   "outputs": [
    {
     "name": "stdout",
     "output_type": "stream",
     "text": [
      "The link is: https://www.w3resource.com/html/HTML-tutorials.php\n"
     ]
    }
   ],
   "source": [
    "link_for_first = soup.find('a')['href']\n",
    "print(f\"The link is: {link_for_first}\")"
   ]
  },
  {
   "attachments": {},
   "cell_type": "markdown",
   "metadata": {},
   "source": [
    "# 8. Write a Python program to find the href of the all \"a\" tag of a given html document."
   ]
  },
  {
   "cell_type": "code",
   "execution_count": 22,
   "metadata": {},
   "outputs": [
    {
     "data": {
      "text/plain": [
       "[<a href=\"https://www.w3resource.com/html/HTML-tutorials.php\">Learn HTML from\n",
       " w3resource.com</a>,\n",
       " <a href=\"https://www.w3resource.com/css/CSS-tutorials.php\">Learn CSS from \n",
       " w3resource.com</a>]"
      ]
     },
     "execution_count": 22,
     "metadata": {},
     "output_type": "execute_result"
    }
   ],
   "source": [
    "link_for_all = soup.find_all('a')\n",
    "link_for_all\n"
   ]
  },
  {
   "cell_type": "code",
   "execution_count": 24,
   "metadata": {},
   "outputs": [
    {
     "name": "stdout",
     "output_type": "stream",
     "text": [
      "https://www.w3resource.com/html/HTML-tutorials.php\n",
      "https://www.w3resource.com/css/CSS-tutorials.php\n"
     ]
    }
   ],
   "source": [
    "for i in link_for_all:\n",
    "    print(i['href'])"
   ]
  }
 ],
 "metadata": {
  "kernelspec": {
   "display_name": "Python 3",
   "language": "python",
   "name": "python3"
  },
  "language_info": {
   "codemirror_mode": {
    "name": "ipython",
    "version": 3
   },
   "file_extension": ".py",
   "mimetype": "text/x-python",
   "name": "python",
   "nbconvert_exporter": "python",
   "pygments_lexer": "ipython3",
   "version": "3.11.3"
  },
  "orig_nbformat": 4
 },
 "nbformat": 4,
 "nbformat_minor": 2
}
